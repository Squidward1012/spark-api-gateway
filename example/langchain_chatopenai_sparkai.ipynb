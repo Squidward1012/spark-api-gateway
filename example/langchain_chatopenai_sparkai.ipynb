{
 "cells": [
  {
   "cell_type": "markdown",
   "metadata": {},
   "source": [
    "# LangChain应用集成讯飞星火认知大模型"
   ]
  },
  {
   "cell_type": "markdown",
   "metadata": {},
   "source": [
    "## 集成指南\n",
    "\n",
    "讯飞星火认知大模型是国内领先的大模型，拥有跨领域的知识和语言理解能力，能够完成问答对话和文学创作等任务。星火大模型持续从海量文本数据和大规模语法知识中学习进化，实现从提出问题、规划问题到解决问题的全流程闭环。\n",
    "\n",
    "星火大模型通过API提供访问。您可以在[https://xinghuo.xfyun.cn/sparkapi](https://xinghuo.xfyun.cn/sparkapi)申请API访问。\n",
    "\n",
    "讯飞星火的**认知大模型**聊天补全（chat completion）利用了不同于OpenAI的机制，它通过WebSocket提供访问。本指南向您演示如何通过FastAPI来提供OpenAI接口协议兼容的星火认知大模型接口，通过此方式，我们能够在**LangChain**应用中使用**星火认知大模型**。\n",
    "\n",
    "[spark-api-gateway](https://github.com/sugarforever/spark-api-gateway)正是本示例所使用的API网管，通过该网管提供与OpenAI接口协议兼容的API。spark-api-gateway目前支持如下聊天补全API：\n",
    "\n",
    "- POST /v1/chat/completions"
   ]
  },
  {
   "cell_type": "code",
   "execution_count": null,
   "metadata": {},
   "outputs": [],
   "source": [
    "! pip install langchain -q -U"
   ]
  },
  {
   "cell_type": "markdown",
   "metadata": {},
   "source": [
    "## 示例1 - 简单的聊天补全"
   ]
  },
  {
   "cell_type": "code",
   "execution_count": 33,
   "metadata": {},
   "outputs": [],
   "source": [
    "from langchain.chat_models import ChatOpenAI\n",
    "\n",
    "spark_chat = ChatOpenAI(openai_api_base=\"http://localhost:8000/v1\", openai_api_key=\"sk-xxx\")"
   ]
  },
  {
   "cell_type": "code",
   "execution_count": 34,
   "metadata": {},
   "outputs": [],
   "source": [
    "from langchain.schema.messages import HumanMessage, SystemMessage\n",
    "\n",
    "messages = [\n",
    "    HumanMessage(content=\"大语言模型的理论基础是什么？\"),\n",
    "]"
   ]
  },
  {
   "cell_type": "code",
   "execution_count": 35,
   "metadata": {},
   "outputs": [
    {
     "data": {
      "text/plain": [
       "AIMessage(content='大语言模型的理论基础是深度学习。大语言模型是深度学习的应用之一，尤其在自然语言处理(NLP)领域。这些模型的目标是理解和生成人类语言。为了实现这个目标，模型需要在大量文本数据上进行训练，以学习语言的各种模式和结构。')"
      ]
     },
     "execution_count": 35,
     "metadata": {},
     "output_type": "execute_result"
    }
   ],
   "source": [
    "spark_chat.invoke(messages)"
   ]
  },
  {
   "cell_type": "markdown",
   "metadata": {},
   "source": [
    "## 示例2 - LLMChain使用星火认知大模型"
   ]
  },
  {
   "cell_type": "code",
   "execution_count": 36,
   "metadata": {},
   "outputs": [],
   "source": [
    "\n",
    "from langchain.memory import ConversationBufferMemory\n",
    "from langchain.prompts import (\n",
    "    ChatPromptTemplate,\n",
    "    HumanMessagePromptTemplate,\n",
    "    MessagesPlaceholder,\n",
    ")\n",
    "prompt = ChatPromptTemplate.from_messages(\n",
    "    [\n",
    "        MessagesPlaceholder(variable_name=\"chat_history\"),\n",
    "        HumanMessagePromptTemplate.from_template(\"{human_input}\")\n",
    "    ]\n",
    ")\n",
    "\n",
    "memory = ConversationBufferMemory(memory_key=\"chat_history\", return_messages=True)"
   ]
  },
  {
   "cell_type": "code",
   "execution_count": 37,
   "metadata": {},
   "outputs": [],
   "source": [
    "from langchain.chains import LLMChain\n",
    "chat_llm_chain = LLMChain(\n",
    "    llm=spark_chat,\n",
    "    prompt=prompt,\n",
    "    verbose=True,\n",
    "    memory=memory,\n",
    ")"
   ]
  },
  {
   "cell_type": "code",
   "execution_count": 38,
   "metadata": {},
   "outputs": [
    {
     "name": "stdout",
     "output_type": "stream",
     "text": [
      "\n",
      "\n",
      "\u001b[1m> Entering new LLMChain chain...\u001b[0m\n",
      "Prompt after formatting:\n",
      "\u001b[32;1m\u001b[1;3mHuman: 你是谁？\u001b[0m\n",
      "\n",
      "\u001b[1m> Finished chain.\u001b[0m\n"
     ]
    },
    {
     "data": {
      "text/plain": [
       "'您好，我是科大讯飞研发的认知智能大模型，我的名字叫讯飞星火认知大模型。我可以和人类进行自然交流，解答问题，高效完成各领域认知智能需求。'"
      ]
     },
     "execution_count": 38,
     "metadata": {},
     "output_type": "execute_result"
    }
   ],
   "source": [
    "chat_llm_chain.predict(human_input=\"你是谁？\")"
   ]
  },
  {
   "cell_type": "code",
   "execution_count": 39,
   "metadata": {},
   "outputs": [
    {
     "name": "stdout",
     "output_type": "stream",
     "text": [
      "\n",
      "\n",
      "\u001b[1m> Entering new LLMChain chain...\u001b[0m\n",
      "Prompt after formatting:\n",
      "\u001b[32;1m\u001b[1;3mHuman: 你是谁？\n",
      "AI: 您好，我是科大讯飞研发的认知智能大模型，我的名字叫讯飞星火认知大模型。我可以和人类进行自然交流，解答问题，高效完成各领域认知智能需求。\n",
      "Human: 请解释第一性原理\u001b[0m\n",
      "\n",
      "\u001b[1m> Finished chain.\u001b[0m\n"
     ]
    },
    {
     "data": {
      "text/plain": [
       "'第一性原理是指，回归事物最基本的条件，将其拆分成各要素进行解构分析，从而找到实现目标最优路径的方法。  该原理源于古希腊哲学家亚里士多德提出的一个哲学观点：“每个系统中存在一个最基本的命题，它不能被违背或删除。” \\n\\n这个名词被炒得很火主要得益于“钢铁侠”埃隆·马斯克(特斯拉汽车CEO)。他曾在采访中提到自己特别推崇“第一性原理”思考法：“通过第一性原理，我把事情升华到最根本的真理，然后从最核心处开始推理......”'"
      ]
     },
     "execution_count": 39,
     "metadata": {},
     "output_type": "execute_result"
    }
   ],
   "source": [
    "chat_llm_chain.predict(human_input=\"请解释第一性原理\")"
   ]
  },
  {
   "cell_type": "code",
   "execution_count": 40,
   "metadata": {},
   "outputs": [
    {
     "name": "stdout",
     "output_type": "stream",
     "text": [
      "\n",
      "\n",
      "\u001b[1m> Entering new LLMChain chain...\u001b[0m\n",
      "Prompt after formatting:\n",
      "\u001b[32;1m\u001b[1;3mHuman: 你是谁？\n",
      "AI: 您好，我是科大讯飞研发的认知智能大模型，我的名字叫讯飞星火认知大模型。我可以和人类进行自然交流，解答问题，高效完成各领域认知智能需求。\n",
      "Human: 请解释第一性原理\n",
      "AI: 第一性原理是指，回归事物最基本的条件，将其拆分成各要素进行解构分析，从而找到实现目标最优路径的方法。  该原理源于古希腊哲学家亚里士多德提出的一个哲学观点：“每个系统中存在一个最基本的命题，它不能被违背或删除。” \n",
      "\n",
      "这个名词被炒得很火主要得益于“钢铁侠”埃隆·马斯克(特斯拉汽车CEO)。他曾在采访中提到自己特别推崇“第一性原理”思考法：“通过第一性原理，我把事情升华到最根本的真理，然后从最核心处开始推理......”\n",
      "Human: 这位哲学家的最大成就是什么？\u001b[0m\n",
      "\n",
      "\u001b[1m> Finished chain.\u001b[0m\n"
     ]
    },
    {
     "data": {
      "text/plain": [
       "'亚里士多德是古希腊哲学家，他在哲学上最大的贡献在于创立了形式逻辑这一重要分支学科。逻辑思维是亚里士多德在众多领域建树卓越的支柱，这种思维方式自始至终贯穿于他的研究、统计和思考之中。\\n\\n除此之外，他还是一位杰出的科学家，对物理学、生物学、植物学、动物学、解剖学、伦理学等领域都有很大的贡献。'"
      ]
     },
     "execution_count": 40,
     "metadata": {},
     "output_type": "execute_result"
    }
   ],
   "source": [
    "chat_llm_chain.predict(human_input=\"这位哲学家的最大成就是什么？\")"
   ]
  },
  {
   "cell_type": "code",
   "execution_count": 41,
   "metadata": {},
   "outputs": [
    {
     "name": "stdout",
     "output_type": "stream",
     "text": [
      "\n",
      "\n",
      "\u001b[1m> Entering new LLMChain chain...\u001b[0m\n",
      "Prompt after formatting:\n",
      "\u001b[32;1m\u001b[1;3mHuman: 你是谁？\n",
      "AI: 您好，我是科大讯飞研发的认知智能大模型，我的名字叫讯飞星火认知大模型。我可以和人类进行自然交流，解答问题，高效完成各领域认知智能需求。\n",
      "Human: 请解释第一性原理\n",
      "AI: 第一性原理是指，回归事物最基本的条件，将其拆分成各要素进行解构分析，从而找到实现目标最优路径的方法。  该原理源于古希腊哲学家亚里士多德提出的一个哲学观点：“每个系统中存在一个最基本的命题，它不能被违背或删除。” \n",
      "\n",
      "这个名词被炒得很火主要得益于“钢铁侠”埃隆·马斯克(特斯拉汽车CEO)。他曾在采访中提到自己特别推崇“第一性原理”思考法：“通过第一性原理，我把事情升华到最根本的真理，然后从最核心处开始推理......”\n",
      "Human: 这位哲学家的最大成就是什么？\n",
      "AI: 亚里士多德是古希腊哲学家，他在哲学上最大的贡献在于创立了形式逻辑这一重要分支学科。逻辑思维是亚里士多德在众多领域建树卓越的支柱，这种思维方式自始至终贯穿于他的研究、统计和思考之中。\n",
      "\n",
      "除此之外，他还是一位杰出的科学家，对物理学、生物学、植物学、动物学、解剖学、伦理学等领域都有很大的贡献。\n",
      "Human: 他在心理学方面的贡献是什么？\u001b[0m\n",
      "\n",
      "\u001b[1m> Finished chain.\u001b[0m\n"
     ]
    },
    {
     "data": {
      "text/plain": [
       "'亚里士多德在心理学方面的贡献是他对人类思维和行为的研究。他认为，人的思想和行为是由身体、情感和精神三部分组成的，这三部分相互作用，共同影响着人的行为。\\n\\n此外，亚里士多德还提出了一种被称为“幸福学”的学科，它研究的是人的幸福和快乐。'"
      ]
     },
     "execution_count": 41,
     "metadata": {},
     "output_type": "execute_result"
    }
   ],
   "source": [
    "chat_llm_chain.predict(human_input=\"他在心理学方面的贡献是什么？\")"
   ]
  },
  {
   "cell_type": "code",
   "execution_count": 42,
   "metadata": {},
   "outputs": [
    {
     "name": "stdout",
     "output_type": "stream",
     "text": [
      "\n",
      "\n",
      "\u001b[1m> Entering new LLMChain chain...\u001b[0m\n",
      "Prompt after formatting:\n",
      "\u001b[32;1m\u001b[1;3mHuman: 你是谁？\n",
      "AI: 您好，我是科大讯飞研发的认知智能大模型，我的名字叫讯飞星火认知大模型。我可以和人类进行自然交流，解答问题，高效完成各领域认知智能需求。\n",
      "Human: 请解释第一性原理\n",
      "AI: 第一性原理是指，回归事物最基本的条件，将其拆分成各要素进行解构分析，从而找到实现目标最优路径的方法。  该原理源于古希腊哲学家亚里士多德提出的一个哲学观点：“每个系统中存在一个最基本的命题，它不能被违背或删除。” \n",
      "\n",
      "这个名词被炒得很火主要得益于“钢铁侠”埃隆·马斯克(特斯拉汽车CEO)。他曾在采访中提到自己特别推崇“第一性原理”思考法：“通过第一性原理，我把事情升华到最根本的真理，然后从最核心处开始推理......”\n",
      "Human: 这位哲学家的最大成就是什么？\n",
      "AI: 亚里士多德是古希腊哲学家，他在哲学上最大的贡献在于创立了形式逻辑这一重要分支学科。逻辑思维是亚里士多德在众多领域建树卓越的支柱，这种思维方式自始至终贯穿于他的研究、统计和思考之中。\n",
      "\n",
      "除此之外，他还是一位杰出的科学家，对物理学、生物学、植物学、动物学、解剖学、伦理学等领域都有很大的贡献。\n",
      "Human: 他在心理学方面的贡献是什么？\n",
      "AI: 亚里士多德在心理学方面的贡献是他对人类思维和行为的研究。他认为，人的思想和行为是由身体、情感和精神三部分组成的，这三部分相互作用，共同影响着人的行为。\n",
      "\n",
      "此外，亚里士多德还提出了一种被称为“幸福学”的学科，它研究的是人的幸福和快乐。\n",
      "Human: 哪里能买到这本书？\u001b[0m\n",
      "\n",
      "\u001b[1m> Finished chain.\u001b[0m\n"
     ]
    },
    {
     "data": {
      "text/plain": [
       "'您好！您可以在当地的书店或者网上购买亚里士多德的心理学著作。以下是一些可能有用的链接：\\n\\n- 当当网\\n- 京东'"
      ]
     },
     "execution_count": 42,
     "metadata": {},
     "output_type": "execute_result"
    }
   ],
   "source": [
    "chat_llm_chain.predict(human_input=\"哪里能买到这本书？\")"
   ]
  }
 ],
 "metadata": {
  "kernelspec": {
   "display_name": "base",
   "language": "python",
   "name": "python3"
  },
  "language_info": {
   "codemirror_mode": {
    "name": "ipython",
    "version": 3
   },
   "file_extension": ".py",
   "mimetype": "text/x-python",
   "name": "python",
   "nbconvert_exporter": "python",
   "pygments_lexer": "ipython3",
   "version": "3.11.4"
  },
  "orig_nbformat": 4
 },
 "nbformat": 4,
 "nbformat_minor": 2
}
